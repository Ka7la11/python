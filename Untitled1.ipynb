{
  "nbformat": 4,
  "nbformat_minor": 0,
  "metadata": {
    "colab": {
      "name": "Untitled1.ipynb",
      "provenance": [],
      "collapsed_sections": [],
      "authorship_tag": "ABX9TyMlwwycxMtZlfz7GdRlLuFd",
      "include_colab_link": true
    },
    "kernelspec": {
      "name": "python3",
      "display_name": "Python 3"
    },
    "language_info": {
      "name": "python"
    }
  },
  "cells": [
    {
      "cell_type": "markdown",
      "metadata": {
        "id": "view-in-github",
        "colab_type": "text"
      },
      "source": [
        "<a href=\"https://colab.research.google.com/github/Ka7la11/python/blob/main/Untitled1.ipynb\" target=\"_parent\"><img src=\"https://colab.research.google.com/assets/colab-badge.svg\" alt=\"Open In Colab\"/></a>"
      ]
    },
    {
      "cell_type": "code",
      "source": [
        "import numpy as np\n"
      ],
      "metadata": {
        "id": "Ty_MsF583Lfl"
      },
      "execution_count": null,
      "outputs": []
    },
    {
      "cell_type": "code",
      "execution_count": null,
      "metadata": {
        "colab": {
          "base_uri": "https://localhost:8080/"
        },
        "id": "rs4C_Cc11uk1",
        "outputId": "c6f7cdca-1803-41dd-91bd-91b6d8549251"
      },
      "outputs": [
        {
          "output_type": "execute_result",
          "data": {
            "text/plain": [
              "2.302585092994046"
            ]
          },
          "metadata": {},
          "execution_count": 6
        }
      ],
      "source": [
        "from Test import *\n",
        "tst.find_exp(6)\n",
        "tst.find_log(10)"
      ]
    },
    {
      "cell_type": "code",
      "source": [
        "import Test2 as tst2\n",
        "tst2.find_sqrt(5)"
      ],
      "metadata": {
        "colab": {
          "base_uri": "https://localhost:8080/"
        },
        "id": "lDIvP7SA-wF8",
        "outputId": "6887d1a1-b9f0-4b63-9ce4-226540ce5ea1"
      },
      "execution_count": null,
      "outputs": [
        {
          "output_type": "execute_result",
          "data": {
            "text/plain": [
              "2.23606797749979"
            ]
          },
          "metadata": {},
          "execution_count": 12
        }
      ]
    },
    {
      "cell_type": "code",
      "source": [
        "a = 1\n",
        "strs = \"hello\"\n",
        "def func(a):\n",
        " res = a + strs\n",
        " print(res)\n",
        "finally=strs(a) + strs\n",
        "print(res)\n"
      ],
      "metadata": {
        "colab": {
          "base_uri": "https://localhost:8080/",
          "height": 130
        },
        "id": "yPc82qx1Cype",
        "outputId": "f2aba6fa-1f8e-41bf-b405-c9772141c9aa"
      },
      "execution_count": 6,
      "outputs": [
        {
          "output_type": "error",
          "ename": "SyntaxError",
          "evalue": "ignored",
          "traceback": [
            "\u001b[0;36m  File \u001b[0;32m\"<ipython-input-6-4e2ce9065ac6>\"\u001b[0;36m, line \u001b[0;32m6\u001b[0m\n\u001b[0;31m    finally=strs(a) + strs\u001b[0m\n\u001b[0m          ^\u001b[0m\n\u001b[0;31mSyntaxError\u001b[0m\u001b[0;31m:\u001b[0m invalid syntax\n"
          ]
        }
      ]
    },
    {
      "cell_type": "code",
      "source": [
        "var = 10\n",
        "def test_func():\n",
        "  global var\n",
        "  var += 1\n",
        "  print(var)\n",
        "  test_func()\n"
      ],
      "metadata": {
        "id": "3ZVHAYnQ8xkY"
      },
      "execution_count": 15,
      "outputs": []
    },
    {
      "cell_type": "code",
      "source": [
        "score=0\n",
        "level = 'expert'\n",
        "while score<100:\n",
        "  score = int(input(\"Enter your score between 0 and 100: \"))\n",
        "  #\n",
        "  def calculate_level(score):\n",
        "    global level\n",
        "    if score <100:\n",
        "      if score > 90:\n",
        "        level = 'expert'\n",
        "      elif score > 70:\n",
        "        level = 'advanced'\n",
        "      elif score > 55:\n",
        "        level = 'intermediate'\n",
        "      else:\n",
        "        level ='débutant'\n",
        "    else:\n",
        "      print('vérifier votre score')\n",
        "      level=None\n",
        "    return level\n",
        "  print(f'Your level is: {calculate_level(score)}')\n"
      ],
      "metadata": {
        "colab": {
          "base_uri": "https://localhost:8080/"
        },
        "id": "ZinSTKEd9sHg",
        "outputId": "b84741e4-2723-4e68-be6e-3619ddfd151e"
      },
      "execution_count": 55,
      "outputs": [
        {
          "output_type": "stream",
          "name": "stdout",
          "text": [
            "Enter your score between 0 and 100: 110\n",
            "vérifier votre score\n",
            "Your level is: None\n"
          ]
        }
      ]
    },
    {
      "cell_type": "code",
      "source": [
        "\n",
        "liste = [34,78,29,12]\n",
        "def valeur_max(liste):\n",
        "  i=0\n",
        "  X=0\n",
        "  while i<len(liste):\n",
        "    if (list[i]>list[i+1]):\n",
        "      X=list[i]\n",
        "      \n",
        "      \n",
        "    return (liste[i])\n"
      ],
      "metadata": {
        "id": "QwX6BZjq-WzX"
      },
      "execution_count": 67,
      "outputs": []
    },
    {
      "cell_type": "code",
      "source": [
        "Liste = ['zdz','assda','fhfgh','fgghf']\n",
        "def nbr_chaines(liste):\n",
        "  i=0\n",
        "  P=0\n",
        "  for i in liste:\n",
        "    if len(i)>1 and i[0]==i[-1]:\n",
        "      print(i)\n",
        "      P=P+1     \n",
        "  return P\n",
        "nbr_chaines(Liste)\n",
        "\n",
        "\n"
      ],
      "metadata": {
        "colab": {
          "base_uri": "https://localhost:8080/"
        },
        "id": "NShnic59SVXX",
        "outputId": "2dfed29a-7274-460c-d455-b5b9342a69f6"
      },
      "execution_count": 86,
      "outputs": [
        {
          "output_type": "stream",
          "name": "stdout",
          "text": [
            "zdz\n",
            "assda\n",
            "fgghf\n"
          ]
        },
        {
          "output_type": "execute_result",
          "data": {
            "text/plain": [
              "3"
            ]
          },
          "metadata": {},
          "execution_count": 86
        }
      ]
    },
    {
      "cell_type": "code",
      "source": [
        "liste = [11,52,26,11,88,11]\n",
        "Liste1=[]\n",
        "\n",
        "def supprime(liste):\n",
        "\n",
        "  for i in liste:\n",
        "    if i not in Liste1:\n",
        "      Liste1.append(i)\n",
        "      \n",
        "  return Liste1\n",
        "supprime(liste)\n",
        "\n"
      ],
      "metadata": {
        "colab": {
          "base_uri": "https://localhost:8080/"
        },
        "id": "-snwRzeLVrNB",
        "outputId": "9228ccf5-693a-4cbd-9605-324b9a1efa68"
      },
      "execution_count": 94,
      "outputs": [
        {
          "output_type": "execute_result",
          "data": {
            "text/plain": [
              "[11, 52, 26, 88]"
            ]
          },
          "metadata": {},
          "execution_count": 94
        }
      ]
    },
    {
      "cell_type": "markdown",
      "source": [
        "# Nouvelle section"
      ],
      "metadata": {
        "id": "k32S6xgl2TRH"
      }
    }
  ]
}