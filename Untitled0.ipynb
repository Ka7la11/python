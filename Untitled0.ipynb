{
  "nbformat": 4,
  "nbformat_minor": 0,
  "metadata": {
    "colab": {
      "name": "Untitled0.ipynb",
      "provenance": [],
      "collapsed_sections": [],
      "authorship_tag": "ABX9TyPBsp5U2UUlo70tXwJipiXE",
      "include_colab_link": true
    },
    "kernelspec": {
      "name": "python3",
      "display_name": "Python 3"
    },
    "language_info": {
      "name": "python"
    }
  },
  "cells": [
    {
      "cell_type": "markdown",
      "metadata": {
        "id": "view-in-github",
        "colab_type": "text"
      },
      "source": [
        "<a href=\"https://colab.research.google.com/github/Ka7la11/python/blob/main/Untitled0.ipynb\" target=\"_parent\"><img src=\"https://colab.research.google.com/assets/colab-badge.svg\" alt=\"Open In Colab\"/></a>"
      ]
    },
    {
      "cell_type": "code",
      "execution_count": null,
      "metadata": {
        "colab": {
          "base_uri": "https://localhost:8080/",
          "height": 268
        },
        "id": "B2xGVTPF2tdZ",
        "outputId": "5ee80d6a-2a5f-4b5b-b709-74b053443c70"
      },
      "outputs": [
        {
          "output_type": "display_data",
          "data": {
            "text/plain": [
              "<Figure size 432x288 with 1 Axes>"
            ],
            "image/png": "[encoded data removed]"
          },
          "metadata": {}
        }
      ],
      "source": [
        "import matplotlib.pyplot as plt\n",
        "activities = ['manger', 'dormir', 'travailler', 'divertissement']\n",
        "slices = [5, 2, 6, 10]\n",
        "colors = ['r', 'y', 'g', 'b']\n",
        "plt.pie(slices, labels = activities, colors=colors,\n",
        "startangle=360, shadow = True, \n",
        "radius = 1.2, autopct = '%2.5f%%')\n",
        "plt.legend()\n",
        "plt.show()"
      ]
    },
    {
      "cell_type": "markdown",
      "source": [
        ""
      ],
      "metadata": {
        "id": "fR_GGb5o5PEk"
      }
    },
    {
      "cell_type": "code",
      "source": [
        "\n",
        "type (x)\n",
        "y=3.2\n",
        "x=3,2\n",
        "print (type(x))\n",
        "print(type(y))"
      ],
      "metadata": {
        "colab": {
          "base_uri": "https://localhost:8080/"
        },
        "id": "BP_4xXd3Gvvp",
        "outputId": "4b590e51-3e3f-4c37-c1ca-b8c59f0f17d0"
      },
      "execution_count": null,
      "outputs": [
        {
          "output_type": "stream",
          "name": "stdout",
          "text": [
            "<class 'tuple'>\n",
            "<class 'float'>\n"
          ]
        }
      ]
    },
    {
      "cell_type": "code",
      "source": [
        "x=12\n",
        "y=14\n",
        "x**y\n",
        "type(x**y)\n",
        "\n",
        "\n"
      ],
      "metadata": {
        "colab": {
          "base_uri": "https://localhost:8080/"
        },
        "id": "rmeIxVNwIo9f",
        "outputId": "4a9f1837-cf1f-47d4-b6b8-7ddb4062c164"
      },
      "execution_count": null,
      "outputs": [
        {
          "output_type": "execute_result",
          "data": {
            "text/plain": [
              "int"
            ]
          },
          "metadata": {},
          "execution_count": 45
        }
      ]
    },
    {
      "cell_type": "code",
      "source": [
        "import keyword  \n",
        "keyword.kwlist #les nom qu'on ne doit pas les utiliser en tant que nom du variable"
      ],
      "metadata": {
        "colab": {
          "base_uri": "https://localhost:8080/"
        },
        "id": "5QqBj0EwNPpv",
        "outputId": "d67c31ad-244e-4332-957c-4fac1e995f4b"
      },
      "execution_count": null,
      "outputs": [
        {
          "output_type": "execute_result",
          "data": {
            "text/plain": [
              "['False',\n",
              " 'None',\n",
              " 'True',\n",
              " 'and',\n",
              " 'as',\n",
              " 'assert',\n",
              " 'async',\n",
              " 'await',\n",
              " 'break',\n",
              " 'class',\n",
              " 'continue',\n",
              " 'def',\n",
              " 'del',\n",
              " 'elif',\n",
              " 'else',\n",
              " 'except',\n",
              " 'finally',\n",
              " 'for',\n",
              " 'from',\n",
              " 'global',\n",
              " 'if',\n",
              " 'import',\n",
              " 'in',\n",
              " 'is',\n",
              " 'lambda',\n",
              " 'nonlocal',\n",
              " 'not',\n",
              " 'or',\n",
              " 'pass',\n",
              " 'raise',\n",
              " 'return',\n",
              " 'try',\n",
              " 'while',\n",
              " 'with',\n",
              " 'yield']"
            ]
          },
          "metadata": {},
          "execution_count": 46
        }
      ]
    },
    {
      "cell_type": "code",
      "source": [
        "ma_chaine = \"bonjour\"\n",
        "ma_chaine = '''Bonjour\n",
        "tout le\n",
        "monde'''\n",
        "ma_chaine\n"
      ],
      "metadata": {
        "colab": {
          "base_uri": "https://localhost:8080/",
          "height": 35
        },
        "id": "FoY84DwxMaW2",
        "outputId": "a711492e-e1c3-405e-eec5-9917f6367f46"
      },
      "execution_count": null,
      "outputs": [
        {
          "output_type": "execute_result",
          "data": {
            "text/plain": [
              "'Bonjour\\ntout le\\nmonde'"
            ],
            "application/vnd.google.colaboratory.intrinsic+json": {
              "type": "string"
            }
          },
          "metadata": {},
          "execution_count": 58
        }
      ]
    },
    {
      "cell_type": "code",
      "source": [
        "ma_chaine = \"bonjour\"\n",
        "ma_chaine = '''Bonjour\n",
        "tout le\n",
        "monde'''\n",
        "print(ma_chaine)"
      ],
      "metadata": {
        "colab": {
          "base_uri": "https://localhost:8080/"
        },
        "id": "WmHJrS_HPOpu",
        "outputId": "ed7e6a6f-7471-4ae9-885d-488213fb7749"
      },
      "execution_count": null,
      "outputs": [
        {
          "output_type": "stream",
          "name": "stdout",
          "text": [
            "Bonjour\n",
            "tout le\n",
            "monde\n"
          ]
        }
      ]
    },
    {
      "cell_type": "code",
      "source": [
        "chaine ='j\\'aime le python' \n",
        "print (chaine)"
      ],
      "metadata": {
        "colab": {
          "base_uri": "https://localhost:8080/"
        },
        "id": "7Fz8eRhYP1JV",
        "outputId": "0594680f-64de-44e4-9e2f-c6f4a8203293"
      },
      "execution_count": null,
      "outputs": [
        {
          "output_type": "stream",
          "name": "stdout",
          "text": [
            "j'aime le python\n"
          ]
        }
      ]
    },
    {
      "cell_type": "code",
      "source": [
        "a=12\n",
        "b=31.6\n",
        "a,b=b,a \n",
        "print (a)\n",
        "print(b)"
      ],
      "metadata": {
        "colab": {
          "base_uri": "https://localhost:8080/"
        },
        "id": "kFIrEYi-Q3y-",
        "outputId": "38310323-234d-4f42-a456-b750fa9bf3ab"
      },
      "execution_count": null,
      "outputs": [
        {
          "output_type": "stream",
          "name": "stdout",
          "text": [
            "31.6\n",
            "12\n"
          ]
        }
      ]
    },
    {
      "cell_type": "code",
      "source": [
        "A = input(\"Salaire\") #il va automatiquement les lires comme une chaine de caractère\n",
        "B = input(\"solde\")\n",
        "A+B"
      ],
      "metadata": {
        "colab": {
          "base_uri": "https://localhost:8080/",
          "height": 70
        },
        "id": "9oD223TPS4dV",
        "outputId": "961ca245-0e7a-4dc6-f8e1-e3249435df7d"
      },
      "execution_count": null,
      "outputs": [
        {
          "name": "stdout",
          "output_type": "stream",
          "text": [
            "Salaire500\n",
            "solde20%\n"
          ]
        },
        {
          "output_type": "execute_result",
          "data": {
            "text/plain": [
              "'50020%'"
            ],
            "application/vnd.google.colaboratory.intrinsic+json": {
              "type": "string"
            }
          },
          "metadata": {},
          "execution_count": 72
        }
      ]
    },
    {
      "cell_type": "code",
      "source": [
        "A =int (input(\"Salaire\")) #pour forcer le saisie d'une variable entier\n",
        "B =int( input(\"solde\"))\n",
        "A+B"
      ],
      "metadata": {
        "colab": {
          "base_uri": "https://localhost:8080/"
        },
        "id": "j3o6hMxeUChO",
        "outputId": "5e70ff4d-ff69-4865-ee4d-e8f02e31a3d2"
      },
      "execution_count": null,
      "outputs": [
        {
          "name": "stdout",
          "output_type": "stream",
          "text": [
            "Salaire500\n",
            "solde200\n"
          ]
        },
        {
          "output_type": "execute_result",
          "data": {
            "text/plain": [
              "700"
            ]
          },
          "metadata": {},
          "execution_count": 75
        }
      ]
    },
    {
      "cell_type": "code",
      "source": [
        "rayon = float (input (\"rayon\"))\n",
        "hauter = float (input (\"hauteur\"))\n",
        "volume = float (1/3*3.14* (rayon**2)*hauter)\n",
        "print (volume)"
      ],
      "metadata": {
        "colab": {
          "base_uri": "https://localhost:8080/"
        },
        "id": "e6TwOCqFUvLQ",
        "outputId": "121a49e5-e834-4a6d-fe8d-f3b1cbf007ae"
      },
      "execution_count": null,
      "outputs": [
        {
          "output_type": "stream",
          "name": "stdout",
          "text": [
            "rayon50\n",
            "hauteur50\n",
            "130833.33333333333\n"
          ]
        }
      ]
    },
    {
      "cell_type": "code",
      "source": [
        "entier = input(\"entier\")\n",
        "\n",
        "CH = int(entier)+int(entier+entier)+int(entier+entier+entier)\n",
        "\n",
        "print (CH)"
      ],
      "metadata": {
        "colab": {
          "base_uri": "https://localhost:8080/"
        },
        "id": "Y9kchJprYDPt",
        "outputId": "d3ca9773-39be-4c26-9584-148279feb09e"
      },
      "execution_count": null,
      "outputs": [
        {
          "output_type": "stream",
          "name": "stdout",
          "text": [
            "entier5\n",
            "615\n"
          ]
        }
      ]
    },
    {
      "cell_type": "code",
      "source": [
        "x=int (input())\n",
        "y=int (input())\n",
        "z=(x+y)**2\n",
        "print(z)\n"
      ],
      "metadata": {
        "colab": {
          "base_uri": "https://localhost:8080/"
        },
        "id": "oCCUBA2uZcLf",
        "outputId": "c576f9f8-4388-48d6-c7d3-4581888c4576"
      },
      "execution_count": null,
      "outputs": [
        {
          "output_type": "stream",
          "name": "stdout",
          "text": [
            "5\n",
            "5\n",
            "100\n"
          ]
        }
      ]
    },
    {
      "cell_type": "code",
      "source": [
        "x=int(input(\"Saisissez nombre de secondes: \"))\n",
        "Jour=x//86400\n",
        "H=(Jour%86400)//3600\n",
        "M=H//60\n",
        "mm=M%60\n",
        "print (Jour,\"jour, \",H,\"Heures ,\",M,\"Minutes ,\",mm,\"Secondes\")\n",
        "\n",
        "\n"
      ],
      "metadata": {
        "colab": {
          "base_uri": "https://localhost:8080/"
        },
        "id": "JA2zW3XhbLEX",
        "outputId": "dc11f208-b3dd-44fc-ea23-b1ef4c6da9a4"
      },
      "execution_count": null,
      "outputs": [
        {
          "output_type": "stream",
          "name": "stdout",
          "text": [
            "Saisissez nombre de secondes: 86400\n",
            "1 jour,  0 Heures , 0 Minutes , 0 Secondes\n"
          ]
        }
      ]
    },
    {
      "cell_type": "code",
      "source": [
        "from operator import length_hint\n",
        "X= '532'\n",
        "while (len(X)==4) !=1:\n",
        "  X = input(\"merci d'introduire un nbr de 4 chifferes\")\n",
        "A= int(X)//1000\n",
        "B = (int(X)%1000)//100\n",
        "C = (int(X)%1000)%100//10\n",
        "D = (int(X)%1000)%100%10\n",
        "Somme = A+B+C+D\n",
        "print(Somme)\n",
        "\n"
      ],
      "metadata": {
        "colab": {
          "base_uri": "https://localhost:8080/"
        },
        "id": "mfpBuG5geUCW",
        "outputId": "4be16a09-d3a6-4913-9417-8eb4561a412a"
      },
      "execution_count": null,
      "outputs": [
        {
          "output_type": "stream",
          "name": "stdout",
          "text": [
            "merci d'introduire un nbr de 4 chifferes5555\n",
            "20\n"
          ]
        }
      ]
    },
    {
      "cell_type": "code",
      "source": [
        "J = input(\"Merci d'écrire une chaine\")\n",
        "J1= J[1:]\n",
        "V =  J1.replace (J[0], '*')\n",
        "print (J[0] + V)\n"
      ],
      "metadata": {
        "colab": {
          "base_uri": "https://localhost:8080/"
        },
        "id": "owhwH3JSzr2a",
        "outputId": "33ad0a68-94f6-4f0c-b008-cadfc1351dba"
      },
      "execution_count": 10,
      "outputs": [
        {
          "output_type": "stream",
          "name": "stdout",
          "text": [
            "Merci d'écrire une chainecocotier\n",
            "co*otier\n"
          ]
        }
      ]
    },
    {
      "cell_type": "code",
      "source": [
        "N = input(\"Merci de fornir une chaine de cacartère\")\n",
        "N1 = input(\"Merci de saisir une autre\")\n",
        "Conca = N[:2]\n",
        "Conca1 =N1[:2]\n",
        "New = Conca + N1[2:]\n",
        "New1 = Conca1 + N[2:]\n",
        "Affichage = New1 + New\n",
        "Affichage\n"
      ],
      "metadata": {
        "colab": {
          "base_uri": "https://localhost:8080/",
          "height": 70
        },
        "id": "YAGLjUQNq4S6",
        "outputId": "2275197b-5158-49ab-8b46-1c164fb7595e"
      },
      "execution_count": 14,
      "outputs": [
        {
          "name": "stdout",
          "output_type": "stream",
          "text": [
            "Merci de fornir une chaine de cacartèresdsdfv\n",
            "Merci de saisir une autrewqcwx\n"
          ]
        },
        {
          "output_type": "execute_result",
          "data": {
            "text/plain": [
              "'wqsdfvsdcwx'"
            ],
            "application/vnd.google.colaboratory.intrinsic+json": {
              "type": "string"
            }
          },
          "metadata": {},
          "execution_count": 14
        }
      ]
    },
    {
      "cell_type": "code",
      "source": [
        "Z = input(\"Merci de fornir une chaine de cacartère\")\n",
        "L = int(input(\"Merci de définir l'emplacement\"))\n",
        "Z1 = Z[:L] + Z[L+1:]\n",
        "print(Z1)\n"
      ],
      "metadata": {
        "colab": {
          "base_uri": "https://localhost:8080/"
        },
        "id": "hdjd6-vg36Rc",
        "outputId": "a0950603-22f5-4d93-e032-82109e93ffb5"
      },
      "execution_count": 18,
      "outputs": [
        {
          "output_type": "stream",
          "name": "stdout",
          "text": [
            "Merci de fornir une chaine de cacartèrehghg\n",
            "Merci de définir l'emplacement2\n",
            "hgg\n"
          ]
        }
      ]
    },
    {
      "cell_type": "code",
      "source": [
        "Z = input(\"Merci de fornir une chaine de cacartère: \")\n",
        "ch1=Z[-1]\n",
        "ch2=Z[0]\n",
        "ch3=Z[1:-1]\n",
        "print(ch1+ch3+ch2)"
      ],
      "metadata": {
        "colab": {
          "base_uri": "https://localhost:8080/"
        },
        "id": "Tre0GHoF5r0l",
        "outputId": "cfbcaf72-38cc-4d7f-e2e2-9e5da35f7962"
      },
      "execution_count": 36,
      "outputs": [
        {
          "output_type": "stream",
          "name": "stdout",
          "text": [
            "Merci de fornir une chaine de cacartère: bonjour\n",
            "ronjoub\n"
          ]
        }
      ]
    },
    {
      "cell_type": "code",
      "source": [
        ""
      ],
      "metadata": {
        "id": "-G2JXcy37Iwq"
      },
      "execution_count": null,
      "outputs": []
    },
    {
      "cell_type": "markdown",
      "source": [
        "txt = Python est le langage de programmation open source le plus employé par les\n",
        "informaticiens. Ce langage s’est propulsé en tête de la gestion d’infrastructure,\n",
        "d’analyse de données ou dans le domaine du développement de logiciels. En effet,\n",
        "parmi ses qualités, Python permet notamment aux développeurs de se concentrer sur\n",
        "ce qu’ils font plutôt que sur la manière dont ils le font. Il a libéré les\n",
        "développeurs des contraintes de formes qui occupaient leur temps avec les langages\n",
        "plus anciens. Ainsi, développer du code avec Python est plus rapide qu’avec\n",
        "d’autres langages."
      ],
      "metadata": {
        "id": "NDJoRSZW8zGV"
      }
    },
    {
      "cell_type": "code",
      "source": [
        ""
      ],
      "metadata": {
        "id": "Y2PBbMwl87g0"
      },
      "execution_count": null,
      "outputs": []
    }
  ]
}